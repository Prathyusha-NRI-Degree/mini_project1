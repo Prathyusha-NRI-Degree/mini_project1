{
 "cells": [
  {
   "cell_type": "code",
   "execution_count": 1,
   "metadata": {},
   "outputs": [
    {
     "name": "stdout",
     "output_type": "stream",
     "text": [
      "second List: [1, 2, 3, 5, 8]\n"
     ]
    }
   ],
   "source": [
    "#arrange elements in a list in Ascending order\n",
    "first_list = [5, 3, 8, 1, 2]\n",
    "second_list = []\n",
    "\n",
    "for x in range(len(first_list)):\n",
    "\n",
    "    min_val = first_list[0]\n",
    "    for x in first_list:\n",
    "        if x < min_val:\n",
    "            min_val = x\n",
    "\n",
    "    second_list.append(min_val)\n",
    "    first_list.remove(min_val)\n",
    "\n",
    "\n",
    "print(\"second List:\", second_list)"
   ]
  }
 ],
 "metadata": {
  "kernelspec": {
   "display_name": "Python 3",
   "language": "python",
   "name": "python3"
  },
  "language_info": {
   "codemirror_mode": {
    "name": "ipython",
    "version": 3
   },
   "file_extension": ".py",
   "mimetype": "text/x-python",
   "name": "python",
   "nbconvert_exporter": "python",
   "pygments_lexer": "ipython3",
   "version": "3.13.1"
  }
 },
 "nbformat": 4,
 "nbformat_minor": 2
}
